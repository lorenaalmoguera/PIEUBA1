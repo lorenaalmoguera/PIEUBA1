{
 "cells": [
  {
   "cell_type": "markdown",
   "id": "a8ce790a-9ef5-4555-8578-88cd44032fe8",
   "metadata": {},
   "source": [
    "# **BA1:** El n-esimo de la serie de fibonacci, soluciones iterativa y recursiva. \n"
   ]
  },
  {
   "cell_type": "markdown",
   "id": "a2e7ccb5-caba-4601-8379-d7bc56523f9f",
   "metadata": {},
   "source": [
    "Los enlaces se visualizarán de la siguiente manera: <span style=\"color: lightblue; text-decoration:underline;\">**ENLACE**</span>.</br>\n",
    "Los comandos / datos importantes a notar se visualizarán de la siguiente manera: <span style=\"color: green;\">**COMANDO**</span>."
   ]
  },
  {
   "cell_type": "markdown",
   "id": "2a1faae0-c158-449e-8ff9-c1a21dea7ba1",
   "metadata": {},
   "source": [
    "### INTRODUCCIÓN 🎅🏼"
   ]
  },
  {
   "cell_type": "markdown",
   "id": "fc38e883-3414-43ff-9c65-a245be3e8aa9",
   "metadata": {},
   "source": [
    "La serie de Fibonacci es una secuencia de números en la que cada número es la suma de los dos anteriores, comenzando desde 0 y 1. Es una sucesión infinita que se define matemáticamente de la siguiente manera: </br>\n",
    "\n",
    "- Los dos primeros números de la serie son 0 y 1: **F( 0 ) = 0** y **F( 1 ) = 1** </br>\n",
    "- A partir de ahí, cada número es la suma de los dos anteriores: **F( n ) = F( n - 1 ) + F( n - 2 ) para n >= 2**</br>\n",
    "- Los primeros números de la serie de Fibonacci son: **0, 1, 1, 2, 3, 5, 8, 13, 21, 34, 55, 89, 144, ...**</br>"
   ]
  },
  {
   "cell_type": "markdown",
   "id": "761fdbbf-412a-49a0-8e8c-951f8f861a79",
   "metadata": {},
   "source": [
    "Para entender el funcionamiento de fibonacci, se recomienda ver [<span style=\"color: lightblue; text-decoration:underline;\">__EL SIGUIENTE VÍDEO.__</span>](https://www.youtube.com/watch?v=sY0HYpU2cwk)</br>"
   ]
  },
  {
   "cell_type": "markdown",
   "id": "3f128f2e-d43d-42f6-9060-a9e2797782bf",
   "metadata": {},
   "source": [
    "### ESTRUCTURA DEL EJERCICIO VERSIÓN ITERATIVA ➿\n",
    "\n",
    "Recordamos que un algoritmo iterativo se caracteriza por **ejecutarse en ciclos**. Bajo el siguiente enlace encontraréis más información sobre lo que es un algoritmo iterativo: [<span style=\"color: lightblue; text-decoration:underline;\">__Repaso algoritmo iterativo.__</span>](https://es.wikipedia.org/wiki/Algoritmo_iterativo)</br> \n",
    "\n",
    "Para la realización del n-esimo de la serie de fibonacci de manera iterativa debemos hacer lo siguiente\n",
    "1. **definir la variable n, una variable temporal e inicializar a y b a 0 y 1 respectivamente.** ⏱️"
   ]
  },
  {
   "cell_type": "code",
   "execution_count": 1,
   "id": "eb744891-7877-4446-9052-9ea3a34a792f",
   "metadata": {},
   "outputs": [
    {
     "name": "stdout",
     "output_type": "stream",
     "text": [
      "10\n",
      "0\n",
      "1\n"
     ]
    }
   ],
   "source": [
    "#!/bin/bash\n",
    "\n",
    "fibonacci_iterative() {\n",
    "\n",
    "    local n=10\n",
    "    local a=0\n",
    "    local b=1\n",
    "    local temp\n",
    "    \n",
    "    printf \"%d\\n\" \"$n\"\n",
    "    printf \"%d\\n\" \"$a\"\n",
    "    printf \"%d\\n\" \"$b\"\n",
    "\n",
    "}\n",
    "\n",
    "n=1  #cambia el valor de n al numero deseado\n",
    "fibonacci_iterative \"$n\""
   ]
  },
  {
   "cell_type": "markdown",
   "id": "58b661de-c363-4163-ae81-1cd9e151bf0f",
   "metadata": {},
   "source": [
    "2. **Ejecutar el bucle n veces, ya que queremos encontrar el valor de n en la serie de fibonacci.** 🔁</br>\n",
    "\n",
    "Al ser un algoritmo iterativ, debemos trabajar con bucles (ciclos) por lo tanto emplearemos un <span style=\"color: green;\">**bucle for**</span>, que nos permite controlar la cantidad de veces que itera un bucle desde i = 0 hasta nuestra variable definida n."
   ]
  },
  {
   "cell_type": "code",
   "execution_count": 2,
   "id": "619dda00-83b3-42fe-8019-baffe37cdaaf",
   "metadata": {},
   "outputs": [
    {
     "name": "stdout",
     "output_type": "stream",
     "text": [
      "Iteración: 0 - Valor de i: 0\n",
      "Iteración: 1 - Valor de i: 1\n",
      "Iteración: 2 - Valor de i: 2\n",
      "Iteración: 3 - Valor de i: 3\n",
      "Iteración: 4 - Valor de i: 4\n",
      "Iteración: 5 - Valor de i: 5\n",
      "Iteración: 6 - Valor de i: 6\n",
      "Iteración: 7 - Valor de i: 7\n",
      "Iteración: 8 - Valor de i: 8\n",
      "Iteración: 9 - Valor de i: 9\n"
     ]
    }
   ],
   "source": [
    "#!/bin/bash\n",
    "\n",
    "fibonacci_iterative() {\n",
    "\n",
    "    local n=10\n",
    "    local a=0\n",
    "    local b=1\n",
    "    local temp\n",
    "    local i=0\n",
    "\n",
    "    for (( i; i<n; i++)); do\n",
    "        printf \"Iteración: %d - Valor de i: %d\\n\" \"$i\" \"$i\"\n",
    "    done\n",
    "}\n",
    "\n",
    "n=3 #aquí se inicializa el número\n",
    "\n",
    "fibonacci_iterative \"$n\" #cambia el valor de n al numero deseado"
   ]
  },
  {
   "cell_type": "markdown",
   "id": "ec906e28-1525-4e61-9a01-444531e206ec",
   "metadata": {},
   "source": [
    "3. **Definr los cálculos a realizar dentro del bucle.** ➕➖</br> \n",
    "\n",
    "Recordamos que en la serie de fibonacci a partir del segundo número, es decir 2... Cada número es la suma de los dos anteriores. Por lo tanto, el contenido del bucle deberá reflejar esta suma:</br>\n",
    "\n",
    "- **F( n ) = F( n - 1 ) + F( n - 2 ) para n >= 2**</br>\n",
    "\n",
    "Por lo tanto nosotros tendremos que emplear las variables que hemos definido anteriormente para hacer lo siguiente...</br>\n",
    "\n",
    "1. Utilizar la variable <span style=\"color: green;\">**temp**</span> para guardar el valor de <span style=\"color: green;\">**a**</span> en ella\n",
    "2. Actualizar el valor de <span style=\"color: green;\">**a**</span> con la el valor de la variable <span style=\"color: green;\">**b**</span>\n",
    "3. Actualizar el valor de b realizando un cálculo para el nuevo de <span style=\"color: green;\">**b**</span> dónde se realizará la suma del valor de <span style=\"color: green;\">**temp**</span> que será el valor antiguo de <span style=\"color: green;\">**a**</span> + el valor actual de <span style=\"color: green;\">**a**</span>."
   ]
  },
  {
   "cell_type": "code",
   "execution_count": 3,
   "id": "15326f3f",
   "metadata": {
    "vscode": {
     "languageId": "shellscript"
    }
   },
   "outputs": [
    {
     "name": "stdout",
     "output_type": "stream",
     "text": [
      "55\n"
     ]
    }
   ],
   "source": [
    "#!/bin/bash\n",
    "\n",
    "# Función iterativa para calcular el n-ésimo número de Fibonacci\n",
    "fibonacci_iterative() {\n",
    "    local n=\"$1\"\n",
    "    local a=0\n",
    "    local b=1\n",
    "    local temp\n",
    "\n",
    "    for (( i=0; i<n; i++ )); do\n",
    "        temp=$a # Guardamos el valor actual de 'a' en 'temp'\n",
    "        a=$b # Actualizamos 'a' al valor de 'b' (el siguiente número en la secuencia)\n",
    "        b=$((temp + a)) # Calculamos el nuevo valor de 'b' como la suma de 'temp' (valor antiguo de 'a') y 'a'\n",
    "    done\n",
    "\n",
    "    printf \"%d\\n\" \"$a\"\n",
    "}\n",
    "\n",
    "# Llamada a la función con el valor deseado\n",
    "n=0\n",
    "fibonacci_iterative 10"
   ]
  },
  {
   "cell_type": "markdown",
   "id": "a503c320-1ef1-4537-890a-501fec5c431f",
   "metadata": {},
   "source": [
    "### ESTRUCTURA DEL EJERCICIO VERSIÓN RECURSIVA 📞\n",
    "Un algoritmo recursivo es un tipo de algoritmo que se resuelve a sí mismo dividiendo el problema original en subproblemas más pequeños y similares al original. En lugar de utilizar bucles para repetir una tarea, el algoritmo se llama a sí mismo (es decir, se invoca recursivamente) para resolver estos subproblemas, hasta que alcanza un caso base que es lo suficientemente sencillo para ser resuelto directamente.</br>\n",
    "\n",
    "Encontramos más información sobre la recursión y algoritmos recursiivos bajo el siguiente enlace: [<span style=\"color: lightblue; text-decoration:underline;\">__Recursión__</span>](https://es.wikipedia.org/wiki/Recursi%C3%B3n_(ciencias_de_computaci%C3%B3n)). Además, se recomienda visualizar el siguiente vídeo explicativo que ilustra la recursión de fibonacci en javascript: [<span style=\"color: lightblue; text-decoration:underline;\">__VIDEO__</span>]( https://www.youtube.com/watch?v=i2V090diFRY).</br> \n",
    "\n",
    "Las variables a utilizar serán <span style=\"color: green;\">**n**</span>, <span style=\"color: green;\">**f1**</span>, <span style=\"color: green;\">**f2**</span> y <span style=\"color: green;\">**result**</span>.\n",
    "\n",
    "Para la definición del algoritmo de fibonacci en recursivo necesitamos...\n",
    "1. Definir el **caso base**\n",
    "2. Definir el **caso general**\n",
    "\n",
    "### DEFINIR EL CASO BASE 💼\n",
    "\n",
    "Por lo tanto, comenzaremos definiendo el caso base.\n",
    "\n",
    "1. Definiremos un IF dónde comprobamos si el valor de n es 1 o 0. Si n es 1 o 0 devolverá el valor de n directamente. Esto se debe a que en la serie de fibonacci **F(0) = 0** y **F(1) = 1.** </br>\n",
    "\n",
    "Por lo tanto, definimos un if en el comporbamos si nuestra variable <span style=\"color: green;\">**n**</span> es menor a 1.</br>\n",
    "\n",
    "Recordamos que el operador <span style=\"color: green;\">**<**</span> en bash es <span style=\"color: green;\">**-le**</span>. Por lo que la estructurá del if deberá de ser...</br></br>\n",
    "`` if [[ \"$n$\" -le 1 ]];``</br></br>\n",
    "Dentro del <span style=\"color: green;\">**IF**</span> irá el **caso base** 💼 mientras que dentro del <span style=\"color: green;\">**ELSE**</span> irá el **caso general** 🧑🏻‍🤝‍🧑🏾.\n",
    "    "
   ]
  },
  {
   "cell_type": "code",
   "execution_count": 4,
   "id": "26acc4c5",
   "metadata": {
    "vscode": {
     "languageId": "shellscript"
    }
   },
   "outputs": [
    {
     "name": "stdout",
     "output_type": "stream",
     "text": [
      "Aquí van las llamadas recursivas...\n"
     ]
    }
   ],
   "source": [
    "#!/bin/bash\n",
    "\n",
    "# Función recursiva para calcular el n-ésimo número de Fibonacci\n",
    "fibonacci_recursive() {\n",
    "    local n=\"$1\"\n",
    "    \n",
    "    if [[ \"$n\" -le 1 ]]; then\n",
    "        # Casos base: F(0) = 0 y F(1) = 1\n",
    "        echo \"$n\"\n",
    "    else\n",
    "        # Llamadas recursivas: F(n) = F(n-1) + F(n-2)\n",
    "        echo \"Aquí van las llamadas recursivas...\"\n",
    "    fi\n",
    "}\n",
    "\n",
    "# Especifica el valor de 'n' para calcular F(n)\n",
    "\n",
    "# Llamada a la función recursiva\n",
    "fibonacci_recursive 10"
   ]
  },
  {
   "cell_type": "markdown",
   "id": "738b36e5",
   "metadata": {},
   "source": [
    "### DEFINIR EL CASO GENERAL 🧑🏻‍🤝‍🧑🏾\n",
    "\n",
    "*Para todo caso dónde n sea mayor o igual a 2...*\n",
    "\n",
    "Recordamos que el funcionamiento de la serie de fibonacci es el siguiente...</br>\n",
    "\n",
    "**F(n) = F(n-1) + F(n-2)**</br>\n",
    "\n",
    "Por lo tanto, debemos encontrar la manera de ilustrar esto en el código.</br>\n",
    "\n",
    "En lugar de utilizar un búcle para recorrer los casos hasta **i < n** vamos a hacer que la función se llame así misma y de esta forma repetir una parte del trabajo más pequeña.</br>\n",
    "\n",
    "Ya que en la función **F(n) = F(n-1) + F(n-2)** existen 2 cálculos, llamaremos a la función dos veces y guardaremos este valor en una variable. Por lo tanto...</br>\n",
    "\n",
    "**f1 = fib(n-1)**</br>\n",
    "**f2 = fib(n-2)**</br>\n",
    "**result = (f1+f2)**</br>\n",
    "\n",
    "Esto en el código se ilustrará de la siguiente manera:"
   ]
  },
  {
   "cell_type": "code",
   "execution_count": 8,
   "id": "68238348-c5b7-4f5f-be4c-8a7579e24695",
   "metadata": {},
   "outputs": [
    {
     "name": "stdout",
     "output_type": "stream",
     "text": [
      "55\n"
     ]
    }
   ],
   "source": [
    "#!/bin/bash\n",
    "\n",
    "# Función recursiva para calcular el n-ésimo número de Fibonacci\n",
    "fibonacci_recursive() {\n",
    "    local n=\"$1\"  # Toma el valor pasado como argumento\n",
    "\n",
    "    if [[ \"$n\" -le 1 ]]; then\n",
    "        # Casos base: F(0) = 0 y F(1) = 1\n",
    "        echo \"$n\"\n",
    "    else\n",
    "        #Llamadas recursivas: F(n) = F(n-1) + F(n-2)\n",
    "        local f1=$(fibonacci_recursive \"$((n-1))\")\n",
    "        local f2=$(fibonacci_recursive \"$((n-2))\")\n",
    "        echo $((f1 + f2))  # Devuelve la suma de los resultados\n",
    "    fi\n",
    "}\n",
    "\n",
    "# Ejemplo de llamada a la función\n",
    "fibonacci_recursive 10"
   ]
  },
  {
   "cell_type": "markdown",
   "id": "28b5fe8f",
   "metadata": {},
   "source": [
    "### TRAZA PARA ENTENDER LA RECURSIVIDAD 🤶🏼\n",
    "\n",
    "Fibonacci n = 5\n",
    "0. Se comprueba si es caso base o general. Evidentemente, al ser n > 1 será caso general.\n",
    "\n",
    "1. **Llamada inicial 📞 : fibonacci_recursive(5)**\n",
    "- se llama a n-1 y se guarda en f1. Es decir (fibonacci_recursive(4)).\n",
    "- se llama a n-2 y se guarda en f2. Es decir (fibonacci_recursive(3)).\n",
    "2. **Llamada recursiva 1 📞 : fibonacci_recursive(4)**\n",
    "- se llama a n-1 y se guarda en f1. Es decir (fibonacci_recursive(3)).\n",
    "- se llama a n-2 y se guarda en f2. Es decir (fibonacci_recursive(2)).\n",
    "3. **Llamada recursiva 2 📞 : fibonacci_recursive(3)**\n",
    "- se llama a n-1 y se guarda en f1. Es decir (fibonacci_recursive(2)).\n",
    "- se llama a n-2 y se guarda en f2. Es decir (fibonacci_recursive(1)).\n",
    "4. **Llamada recursiva 3 📞 : fibonacci_recursive(2)**\n",
    "- se llama a n-1 y se guarda en f1. Es decir (fibonacci_recursive(1)).\n",
    "- se llama a n-2 y se guarda en f2. Es decir (fibonacci_recursive(0)).\n",
    "5. **Llamada recursiva 4 📞 : fibonacci_recursive(1)**\n",
    "- Ya es caso base, por lo tanto retorna n que es 1.\n",
    "6. **Llamada recursiva 5 📞 : fibonacci_recursive(0)**\n",
    "- Ya es caso base, por lo tanto retorna n que es 0.\n",
    "7. **Cálculo de fibonacci_recursive(2)**\n",
    "- Cómo hemos resuelto fibonacci_recursive(0) y fibonacci_recursive(1) tenemos que f1 = 1 y f2 = O.\n",
    "- Por lo tanto, fibonacci_recursive(2) toma el valor de 1 + 0 = 1\n",
    "8. **Llamada recursive 6 📞 : fibonacci_recursive (1)**\n",
    "- Cómo hemos dicho antes, el valor retornará 1.\n",
    "9. **Cálculo de fibonacci_recursive(3)**\n",
    "- Cómo hemos resuelto fibonacci_recursive(2) y fibonacci_recursive(1) tenemos que f1 = 1 y f2 = 1.\n",
    "- Por lo tanto, fibonacci_recursive(3) retorna 1 + 1 = 2\n",
    "10. **Llamada recursiva 7 📞 : fibonacci_recursive(2)**\n",
    "- Esta llamada ya se resolvió previamente y sabemos que retorna 1\n",
    "11. **Cálculo de fibonacci_recursive(4)**\n",
    "- Cómo hemos resuelto fibonacci_recursive(3) y fibonacci_recursive(4) tenemos que f1 = 2 y f2 = 1\n",
    "- Por lo tanto, fibonacci_recursive(4) retorna 2 + 1 = 3\n",
    "12. **Llamada recursiva 8 📞 : fibonacci_recursive(3)**\n",
    "- Esta llamada ya se resolvió anteriormente y sabemos que retorna 2.\n",
    "13. **Cálculo final de fibonacci_recursive(5)**\n",
    "- Ya hemos resuelto las llamadas recursivas para fibonacci_recursive(4) y fibonacci_recursive(3). Tenemos que f1 = 3 y f2 = 2. \n",
    "- Por lo tanto, fibonacci_recursive(5) retorna 3 + 2 = 5.\n",
    "\n",
    "***TRAZA FINAL***\n",
    "\n",
    "**fibonacci_recursive(5)**</br>\n",
    "**├─ fibonacci_recursive(4)**</br>\n",
    "**│  ├─ fibonacci_recursive(3)**</br>\n",
    "**│  │  ├─ fibonacci_recursive(2)**</br>\n",
    "**│  │  │  ├─ fibonacci_recursive(1) → 1**</br>\n",
    "**│  │  │  └─ fibonacci_recursive(0) → 0**</br>\n",
    "**│  │  └─ fibonacci_recursive(1) → 1**</br>\n",
    "**│  └─ fibonacci_recursive(2)**</br>\n",
    "**│     ├─ fibonacci_recursive(1) → 1**</br>\n",
    "**│     └─ fibonacci_recursive(0) → 0**</br>\n",
    "**└─ fibonacci_recursive(3)**</br>\n",
    "   **├─ fibonacci_recursive(2)**</br>\n",
    "   **│  ├─ fibonacci_recursive(1) → 1**</br>\n",
    "   **│  └─ fibonacci_recursive(0) → 0**</br>\n",
    "   **└─ fibonacci_recursive(1) → 1**\n"
   ]
  },
  {
   "cell_type": "markdown",
   "id": "e4b0e44f",
   "metadata": {},
   "source": [
    "# EJERCICIO PROPUESTO 👩🏻‍🏫\n",
    "\n",
    "Recordamos el código iterativo propuesto anteriormente..."
   ]
  },
  {
   "cell_type": "code",
   "execution_count": 9,
   "id": "164ac4cd-2c1c-4b46-9dad-9900ca3c0fe8",
   "metadata": {},
   "outputs": [
    {
     "name": "stdout",
     "output_type": "stream",
     "text": [
      "55\n"
     ]
    }
   ],
   "source": [
    "#!/bin/bash\n",
    "\n",
    "# Función iterativa para calcular el n-ésimo número de Fibonacci\n",
    "fibonacci_iterative() {\n",
    "    local n=\"$1\"\n",
    "    local a=0\n",
    "    local b=1\n",
    "    local temp\n",
    "\n",
    "    for (( i=0; i<n; i++ )); do\n",
    "        temp=$a # Guardamos el valor actual de 'a' en 'temp'\n",
    "        a=$b # Actualizamos 'a' al valor de 'b' (el siguiente número en la secuencia)\n",
    "        b=$((temp + a)) # Calculamos el nuevo valor de 'b' como la suma de 'temp' (valor antiguo de 'a') y 'a'\n",
    "    done\n",
    "\n",
    "    printf \"%d\\n\" \"$a\"\n",
    "}\n",
    "\n",
    "# Llamada a la función con el valor deseado\n",
    "fibonacci_iterative 10"
   ]
  },
  {
   "cell_type": "markdown",
   "id": "4aaef4ff-1bf6-45f5-b59b-e26f33fd18f7",
   "metadata": {},
   "source": [
    "A continuación, queremos modificar el script para...\n",
    "1. **Imprimir** toda la serie hasta el número **n** especificado\n",
    "2. **Validar** que el valor de entrada sea un número **entero no negativo**\n",
    "3. **Manejar** entradas *no válidas* con un mensaje de error"
   ]
  },
  {
   "cell_type": "code",
   "execution_count": 7,
   "id": "92108a2c-7d4f-4621-9d9b-820de2601ed5",
   "metadata": {},
   "outputs": [
    {
     "name": "stdout",
     "output_type": "stream",
     "text": [
      "mensaje de error\n"
     ]
    }
   ],
   "source": [
    "#!/bin/bash\n",
    "\n",
    "#1. Imprimir toda la serie hasta el número n especificado\n",
    "#2. Validar que el valor de entrada sea un número entero no negativo\n",
    "#3. Manejar entradas no válidas con un mensaje de error\n",
    "\n",
    "# Función iterativa para calcular el n-ésimo número de Fibonacci\n",
    "fibonacci_iterative() {\n",
    "    local n=\"$1\"\n",
    "\n",
    "    # Validar si el número es válido\n",
    "    if [ ]; then #la validación irá dentro del if\n",
    "        local a=0\n",
    "        local b=1\n",
    "        local temp\n",
    "\n",
    "        echo \"Serie de Fibonacci hasta el número $n:\"\n",
    "        for (( i=0; i<n; i++ )); do\n",
    "\n",
    "            #pista... tendrás que imprimirlo dentro del bucle.\n",
    "            \n",
    "            temp=$a # Guardamos el valor actual de 'a' en 'temp'\n",
    "            a=$b # Actualizamos 'a' al valor de 'b' (el siguiente número en la secuencia)\n",
    "            b=$((temp + a)) # Calculamos el nuevo valor de 'b' como la suma de 'temp' (valor antiguo de 'a') y 'a'\n",
    "        done\n",
    "    else\n",
    "        echo \"mensaje de error\" #mensaje de error\n",
    "    fi\n",
    "}\n",
    "\n",
    "# Llamada a la función con el valor deseado\n",
    "fibonacci_iterative 10"
   ]
  }
 ],
 "metadata": {
  "kernelspec": {
   "display_name": "Bash",
   "language": "bash",
   "name": "bash"
  },
  "language_info": {
   "codemirror_mode": "shell",
   "file_extension": ".sh",
   "mimetype": "text/x-sh",
   "name": "bash"
  }
 },
 "nbformat": 4,
 "nbformat_minor": 5
}
