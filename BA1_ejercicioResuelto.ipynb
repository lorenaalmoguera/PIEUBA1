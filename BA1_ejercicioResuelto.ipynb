{
 "cells": [
  {
   "cell_type": "markdown",
   "id": "eafc6960-2842-4a95-a5fa-960fe74a0aad",
   "metadata": {},
   "source": [
    "# BA1: Solución ejercicio propuesto"
   ]
  },
  {
   "cell_type": "markdown",
   "id": "baf203cd-344e-43b1-94ac-50d64bc413fb",
   "metadata": {},
   "source": [
    "## ¿Es válido el número? 🤔\n",
    "\n",
    "* ``if [[ ... ]]; then:`` Esta estructura es una condición en Bash. Si la condición dentro de los corchetes dobles ``[[ ]]`` es verdadera, se ejecuta el código que sigue al then.\n",
    "\n",
    "* ``$n:`` Esta es una variable que contiene el número que el usuario ingresó. Los ``$`` se utilizan para expandir el valor de una variable.\n",
    "\n",
    "* ``=~:`` Este operador en Bash se utiliza para realizar una comparación de patrones, es decir, para verificar si una cadena coincide con una expresión regular.\n",
    "\n",
    "* ``^[0-9]+$:`` Esta es la expresión regular que se está utilizando para validar el número.\n",
    "\n",
    "    * ``^:`` Indica el inicio de la cadena.\n",
    "    * ``[0-9]:`` Representa cualquier dígito del 0 al 9.\n",
    "    * ``+:`` Significa que el patrón anterior (un dígito) puede repetirse una o más veces.\n",
    "    * ``$:`` Indica el final de la cadena."
   ]
  },
  {
   "cell_type": "code",
   "execution_count": null,
   "id": "072980a6-c0ce-4404-893c-a262dff72688",
   "metadata": {},
   "outputs": [],
   "source": [
    "# Validar si el número es válido\n",
    "    if [[ \"$n\" =~ ^[0-9]+$ ]]; then\n",
    "        local a=0\n",
    "        local b=1\n",
    "        local temp\n",
    "\n",
    "    else\n",
    "        # código\n",
    "    fi"
   ]
  },
  {
   "cell_type": "markdown",
   "id": "95e87076-4550-4798-ade0-2d3043663a94",
   "metadata": {},
   "source": [
    "## ¿Qué ocurre si no es válido? ⛔\n",
    "\n",
    "Simplemente creamos una estructura if else, dónde en el else imprimimos con ``echo`` el mensaje de error."
   ]
  },
  {
   "cell_type": "code",
   "execution_count": null,
   "id": "f0a22ae7-be00-4509-9c6d-b2399ffafc6b",
   "metadata": {},
   "outputs": [],
   "source": [
    "# Validar si el número es válido\n",
    "    if [[ \"$n\" =~ ^[0-9]+$ ]]; then\n",
    "        local a=0\n",
    "        local b=1\n",
    "        local temp\n",
    "\n",
    "    else\n",
    "        #Si el número no es válido, muestra un mensaje de error\n",
    "        echo \"Error: debes introducir un número entero no negativo.\"\n",
    "    fi"
   ]
  },
  {
   "cell_type": "markdown",
   "id": "6ef03f25-eee3-4805-abd5-d1a0702aa05c",
   "metadata": {},
   "source": [
    "## Imprimir toda la serie 💡\n",
    "\n",
    "En primer lugar nos fijamos que tenemos que realizar un ajuste en el bucle for:\n",
    "\n",
    "``for (( i=1; i<=n; i++ )); do``\n",
    "\n",
    "Anteriormente la condición del bucle era la siguiente:\n",
    "\n",
    "``for (( i=0; i<n; i++ )); do``\n",
    "\n",
    "A continuación, observamos el bucle entero...\n",
    "\n",
    "<code>for (( i=1; i<=n; i++ )); do\n",
    "            temp=$a\n",
    "            a=$b\n",
    "            b=$((temp + a))\n",
    "        done\n",
    "</code>\n",
    "\n",
    "Nos fijamos que necesitamos imprimir los resultados... Por lo tanto, añadimos un ``echo`` dónde imprimimos la variable *a* tras haberla calculado nuevamente.\n",
    "\n",
    "Por lo tanto, el código finalizado será el siguiente:\n"
   ]
  },
  {
   "cell_type": "code",
   "execution_count": 10,
   "id": "ce543767-f58e-4595-9101-8de511eb4a14",
   "metadata": {},
   "outputs": [
    {
     "name": "stdout",
     "output_type": "stream",
     "text": [
      "Serie de Fibonacci hasta el número 10:\n",
      "0\n",
      "1\n",
      "1\n",
      "2\n",
      "3\n",
      "5\n",
      "8\n",
      "13\n",
      "21\n",
      "34\n",
      "55\n"
     ]
    }
   ],
   "source": [
    "#!/bin/bash\n",
    "\n",
    "# Función iterativa para calcular la serie de Fibonacci\n",
    "fibonacci_iterative() {\n",
    "    local n=\"$1\"\n",
    "\n",
    "    # Validar si el número es válido\n",
    "    if [[ \"$n\" =~ ^[0-9]+$ ]]; then\n",
    "        local a=0\n",
    "        local b=1\n",
    "        local temp\n",
    "\n",
    "        echo \"Serie de Fibonacci hasta el número $n:\"\n",
    "        # Imprimimos el primer valor (0) fuera del bucle\n",
    "        echo \"$a\"\n",
    "        for (( i=1; i<=n; i++ )); do\n",
    "            temp=$a\n",
    "            a=$b\n",
    "            b=$((temp + a))\n",
    "            echo \"$a\"\n",
    "        done\n",
    "    else\n",
    "        # Si el número no es válido, muestra un mensaje de error\n",
    "        echo \"Error: debes introducir un número entero no negativo.\"\n",
    "    fi\n",
    "}\n",
    "\n",
    "# Llamada a la función con el valor deseado\n",
    "fibonacci_iterative 10"
   ]
  }
 ],
 "metadata": {
  "kernelspec": {
   "display_name": "Bash",
   "language": "bash",
   "name": "bash"
  },
  "language_info": {
   "codemirror_mode": "shell",
   "file_extension": ".sh",
   "mimetype": "text/x-sh",
   "name": "bash"
  }
 },
 "nbformat": 4,
 "nbformat_minor": 5
}
